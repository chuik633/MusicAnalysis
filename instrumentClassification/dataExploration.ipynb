{
 "cells": [
  {
   "cell_type": "code",
   "execution_count": 63,
   "metadata": {},
   "outputs": [],
   "source": [
    "# imports\n",
    "import pandas as pd\n",
    "import matplotlib.pyplot as plt\n",
    "from os import listdir\n",
    "\n",
    "#music imports\n",
    "from music21 import converter, key\n",
    "import pretty_midi\n",
    "# folder\n",
    "data_dir = './data/'"
   ]
  },
  {
   "cell_type": "markdown",
   "metadata": {},
   "source": [
    "## METADATA about the dataset\n",
    "Summary: lots of beethoven, most common instrument is solo piano but there is also string, and woodwind instruments."
   ]
  },
  {
   "cell_type": "code",
   "execution_count": 23,
   "metadata": {},
   "outputs": [
    {
     "name": "stdout",
     "output_type": "stream",
     "text": []
    },
    {
     "name": "stdout",
     "output_type": "stream",
     "text": []
    }
   ],
   "source": [
    "# data\n",
    "metadata_df = pd.read_csv(data_dir+\"musicnet_metadata.csv\")\n",
    "print(\"number of data entries\", len(metadata_df))\n",
    "# print(\"features\", metadata_df.columns.to_list())\n",
    "metadata_df.head()"
   ]
  },
  {
   "cell_type": "code",
   "execution_count": 24,
   "metadata": {},
   "outputs": [
    {
     "name": "stdout",
     "output_type": "stream",
     "text": []
    },
    {
     "name": "stdout",
     "output_type": "stream",
     "text": []
    }
   ],
   "source": [
    "#plot all of these in one figure\n",
    "fig, axs = plt.subplots(3,1, figsize=(10, 10))\n",
    "metadata_df['composer'].value_counts().head(10).plot(kind='barh', ax=axs[0])\n",
    "metadata_df['source'].value_counts().head(10).plot(kind='barh', ax=axs[1])\n",
    "metadata_df['ensemble'].value_counts().head(10).plot(kind='barh', ax=axs[2])"
   ]
  },
  {
   "cell_type": "markdown",
   "metadata": {},
   "source": [
    "## Understanding the data (.mid files)\n",
    "First I organized all of the filenames under each composer in my data. Then I explored how to extract information from each of the .mid files. These files store the music information for the pieces."
   ]
  },
  {
   "cell_type": "code",
   "execution_count": 64,
   "metadata": {},
   "outputs": [
    {
     "name": "stdout",
     "output_type": "stream",
     "text": []
    }
   ],
   "source": [
    "#save the different values\n",
    "composer_names = metadata_df['composer'].unique()\n",
    "composer_files = {}\n",
    "for composer_name in composer_names:\n",
    "    composer_dir = data_dir+\"musicnet_midis/musicnet_midis/\"+composer_name\n",
    "    composer_files[composer_name] = [composer_dir+\"/\"+fname for fname in listdir(composer_dir)]\n",
    "\n",
    "print(composer_files)\n",
    "print(composer_names)"
   ]
  },
  {
   "cell_type": "code",
   "execution_count": 62,
   "metadata": {},
   "outputs": [
    {
     "name": "stdout",
     "output_type": "stream",
     "text": []
    },
    {
     "name": "stdout",
     "output_type": "stream",
     "text": []
    },
    {
     "name": "stdout",
     "output_type": "stream",
     "text": []
    }
   ],
   "source": [
    "#preview the .mid data in a given filename\n",
    "test_file = composer_files['Bach'][0]\n",
    "\n",
    "\n",
    "# Load MIDI file\n",
    "midi_data = pretty_midi.PrettyMIDI(test_file)\n",
    "\n",
    "# Get tempo(s)\n",
    "tempo, beat_times = midi_data.get_tempo_changes()\n",
    "print(\"Tempo (BPM):\", tempo)\n",
    "\n",
    "# Instruments\n",
    "for instrument in midi_data.instruments:\n",
    "    print(f\"Instrument: {instrument.name}, Program: {instrument.program}, Drum: {instrument.is_drum}\")\n",
    "    # for note in instrument.notes[:10]:  # Print first 10 notes\n",
    "    #     print(f\"Note: {note.pitch}, Start: {note.start:.2f}, End: {note.end:.2f}, Velocity: {note.velocity}\")\n",
    "\n",
    "# Duration\n",
    "print(\"Total duration (seconds):\", midi_data.get_end_time())\n",
    "\n",
    "# Key analysis with music21 (optional)\n",
    "\n",
    "\n",
    "score = converter.parse(test_file)\n",
    "k = score.analyze('key')\n",
    "print(\"Estimated Key:\", k)\n",
    "\n",
    "for instrument in midi_data.instruments:\n",
    "    start_times = [note.start for note in instrument.notes]\n",
    "    pitches = [note.pitch for note in instrument.notes]\n",
    "    plt.scatter(start_times, pitches, alpha=0.6, label=instrument.name)\n",
    "\n",
    "plt.xlabel(\"Time (s)\")\n",
    "plt.ylabel(\"MIDI Pitch\")\n",
    "plt.title(\"Note Onsets\")\n",
    "plt.legend()\n",
    "plt.show()\n",
    "\n",
    "\n"
   ]
  },
  {
   "cell_type": "code",
   "execution_count": null,
   "metadata": {},
   "outputs": [],
   "source": [
    "def process_mid_file(filename):\n",
    "    midi_data = pretty_midi.PrettyMIDI(filename)\n",
    "    tempo, beat_times = midi_data.get_tempo_changes()\n",
    "    duration =  midi_data.get_end_time()\n",
    "    score = converter.parse(test_file)\n",
    "    key = score.analyze('key')\n",
    "\n",
    "    # instrument info\n",
    "    instruments_data =[ ]\n",
    "    for instrument in midi_data.instruments:\n",
    "        start_times = [note.start for note in instrument.notes]\n",
    "        pitches = [note.pitch for note in instrument.notes]\n",
    "\n",
    "        # save all he info of the instrument\n",
    "        instrument_info = {'name':instrument.name,\n",
    "         'program':instrument.program,\n",
    "         'drum':instrument.is_drum,\n",
    "         'start_times':start_times,\n",
    "         'pitches':pitches\n",
    "         }\n",
    "        instruments_data.append(instrument_info)\n",
    "        \n",
    "    # save it all in an object to summarizee\n",
    "    file_data = {\n",
    "        ''\n",
    "    }\n",
    "    "
   ]
  }
 ],
 "metadata": {
  "kernelspec": {
   "display_name": "venv",
   "language": "python",
   "name": "python3"
  },
  "language_info": {
   "codemirror_mode": {
    "name": "ipython",
    "version": 3
   },
   "file_extension": ".py",
   "mimetype": "text/x-python",
   "name": "python",
   "nbconvert_exporter": "python",
   "pygments_lexer": "ipython3",
   "version": "3.13.2"
  }
 },
 "nbformat": 4,
 "nbformat_minor": 2
}
