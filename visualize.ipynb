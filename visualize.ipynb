{
 "cells": [
  {
   "cell_type": "markdown",
   "metadata": {},
   "source": [
    "# Visualizing the results"
   ]
  },
  {
   "cell_type": "code",
   "execution_count": 67,
   "metadata": {},
   "outputs": [
    {
     "data": {
      "text/html": [
       "<div>\n",
       "<style scoped>\n",
       "    .dataframe tbody tr th:only-of-type {\n",
       "        vertical-align: middle;\n",
       "    }\n",
       "\n",
       "    .dataframe tbody tr th {\n",
       "        vertical-align: top;\n",
       "    }\n",
       "\n",
       "    .dataframe thead th {\n",
       "        text-align: right;\n",
       "    }\n",
       "</style>\n",
       "<table border=\"1\" class=\"dataframe\">\n",
       "  <thead>\n",
       "    <tr style=\"text-align: right;\">\n",
       "      <th></th>\n",
       "      <th>movie</th>\n",
       "      <th>colors</th>\n",
       "      <th>instruments</th>\n",
       "      <th>emotions</th>\n",
       "    </tr>\n",
       "  </thead>\n",
       "  <tbody>\n",
       "    <tr>\n",
       "      <th>0</th>\n",
       "      <td>Whiplash</td>\n",
       "      <td>[[181, 109, 34], [95, 48, 26], [240, 175, 81],...</td>\n",
       "      <td>[]</td>\n",
       "      <td>['relaxing-calm']</td>\n",
       "    </tr>\n",
       "    <tr>\n",
       "      <th>1</th>\n",
       "      <td>Inception</td>\n",
       "      <td>[[74, 65, 55], [129, 127, 112], [193, 193, 172...</td>\n",
       "      <td>['Piano']</td>\n",
       "      <td>['relaxing-calm']</td>\n",
       "    </tr>\n",
       "    <tr>\n",
       "      <th>2</th>\n",
       "      <td>Challengers</td>\n",
       "      <td>[[32, 125, 152], [17, 34, 15], [88, 96, 73], [...</td>\n",
       "      <td>['Piano']</td>\n",
       "      <td>['relaxing-calm']</td>\n",
       "    </tr>\n",
       "    <tr>\n",
       "      <th>3</th>\n",
       "      <td>PrincessMononoke</td>\n",
       "      <td>[[153, 161, 157], [91, 94, 95], [0, 0, 0]]</td>\n",
       "      <td>[]</td>\n",
       "      <td>['relaxing-calm']</td>\n",
       "    </tr>\n",
       "    <tr>\n",
       "      <th>4</th>\n",
       "      <td>PrincessMononoke</td>\n",
       "      <td>[[102, 116, 132], [53, 59, 66], [167, 181, 172...</td>\n",
       "      <td>[]</td>\n",
       "      <td>['relaxing-calm']</td>\n",
       "    </tr>\n",
       "  </tbody>\n",
       "</table>\n",
       "</div>"
      ],
      "text/plain": [
       "              movie                                             colors  \\\n",
       "0          Whiplash  [[181, 109, 34], [95, 48, 26], [240, 175, 81],...   \n",
       "1         Inception  [[74, 65, 55], [129, 127, 112], [193, 193, 172...   \n",
       "2       Challengers  [[32, 125, 152], [17, 34, 15], [88, 96, 73], [...   \n",
       "3  PrincessMononoke         [[153, 161, 157], [91, 94, 95], [0, 0, 0]]   \n",
       "4  PrincessMononoke  [[102, 116, 132], [53, 59, 66], [167, 181, 172...   \n",
       "\n",
       "  instruments           emotions  \n",
       "0          []  ['relaxing-calm']  \n",
       "1   ['Piano']  ['relaxing-calm']  \n",
       "2   ['Piano']  ['relaxing-calm']  \n",
       "3          []  ['relaxing-calm']  \n",
       "4          []  ['relaxing-calm']  "
      ]
     },
     "execution_count": 67,
     "metadata": {},
     "output_type": "execute_result"
    }
   ],
   "source": [
    "import pandas as pd\n",
    "import ast\n",
    "df = pd.read_csv('./data/music_analysis.csv')\n",
    "df.head()\n"
   ]
  },
  {
   "cell_type": "code",
   "execution_count": 73,
   "metadata": {},
   "outputs": [],
   "source": [
    "from sklearn.preprocessing import MultiLabelBinarizer\n",
    "df = pd.read_csv('./data/music_analysis.csv')\n",
    "df['instruments'] = df['instruments'].apply(ast.literal_eval)\n",
    "df['emotions'] = df['emotions'].apply(ast.literal_eval)\n",
    "\n",
    "mlb_instruments = MultiLabelBinarizer()\n",
    "instruments_encoded = pd.DataFrame(mlb_instruments.fit_transform(df['instruments']),\n",
    "                                   columns=mlb_instruments.classes_)\n",
    "\n",
    "mlb_emotions = MultiLabelBinarizer()\n",
    "emotions_encoded = pd.DataFrame(mlb_emotions.fit_transform(df['emotions']),\n",
    "                                columns=mlb_emotions.classes_)\n",
    "\n",
    "\n",
    "df_encoded = pd.concat([df[['movie']], instruments_encoded, emotions_encoded], axis=1)\n",
    "\n",
    "#save the encoded dataframe to a csv\n",
    "df_encoded.to_csv('./data/music_analysis_encoded.csv', index=False)"
   ]
  },
  {
   "cell_type": "code",
   "execution_count": 60,
   "metadata": {},
   "outputs": [
    {
     "data": {
      "text/html": [
       "<div>\n",
       "<style scoped>\n",
       "    .dataframe tbody tr th:only-of-type {\n",
       "        vertical-align: middle;\n",
       "    }\n",
       "\n",
       "    .dataframe tbody tr th {\n",
       "        vertical-align: top;\n",
       "    }\n",
       "\n",
       "    .dataframe thead th {\n",
       "        text-align: right;\n",
       "    }\n",
       "</style>\n",
       "<table border=\"1\" class=\"dataframe\">\n",
       "  <thead>\n",
       "    <tr style=\"text-align: right;\">\n",
       "      <th></th>\n",
       "      <th>movie</th>\n",
       "      <th>colors</th>\n",
       "      <th>instruments</th>\n",
       "      <th>emotions</th>\n",
       "    </tr>\n",
       "  </thead>\n",
       "  <tbody>\n",
       "    <tr>\n",
       "      <th>0</th>\n",
       "      <td>Arrival</td>\n",
       "      <td>[[181, 109, 34], [95, 48, 26], [240, 175, 81],...</td>\n",
       "      <td>['Violin, fiddle']</td>\n",
       "      <td>['relaxing-calm']</td>\n",
       "    </tr>\n",
       "    <tr>\n",
       "      <th>1</th>\n",
       "      <td>Arrival2</td>\n",
       "      <td>[[74, 65, 55], [129, 127, 112], [193, 193, 172...</td>\n",
       "      <td>['Piano']</td>\n",
       "      <td>['relaxing-calm']</td>\n",
       "    </tr>\n",
       "    <tr>\n",
       "      <th>2</th>\n",
       "      <td>Challengers</td>\n",
       "      <td>[[32, 125, 152], [17, 34, 15], [88, 96, 73], [...</td>\n",
       "      <td>['Piano']</td>\n",
       "      <td>['relaxing-calm']</td>\n",
       "    </tr>\n",
       "    <tr>\n",
       "      <th>3</th>\n",
       "      <td>Everything</td>\n",
       "      <td>[[153, 161, 157], [91, 94, 95], [0, 0, 0]]</td>\n",
       "      <td>['Piano']</td>\n",
       "      <td>[]</td>\n",
       "    </tr>\n",
       "    <tr>\n",
       "      <th>4</th>\n",
       "      <td>Inception</td>\n",
       "      <td>[[102, 116, 132], [53, 59, 66], [167, 181, 172...</td>\n",
       "      <td>['Piano']</td>\n",
       "      <td>['relaxing-calm']</td>\n",
       "    </tr>\n",
       "  </tbody>\n",
       "</table>\n",
       "</div>"
      ],
      "text/plain": [
       "         movie                                             colors  \\\n",
       "0      Arrival  [[181, 109, 34], [95, 48, 26], [240, 175, 81],...   \n",
       "1     Arrival2  [[74, 65, 55], [129, 127, 112], [193, 193, 172...   \n",
       "2  Challengers  [[32, 125, 152], [17, 34, 15], [88, 96, 73], [...   \n",
       "3   Everything         [[153, 161, 157], [91, 94, 95], [0, 0, 0]]   \n",
       "4    Inception  [[102, 116, 132], [53, 59, 66], [167, 181, 172...   \n",
       "\n",
       "          instruments           emotions  \n",
       "0  ['Violin, fiddle']  ['relaxing-calm']  \n",
       "1           ['Piano']  ['relaxing-calm']  \n",
       "2           ['Piano']  ['relaxing-calm']  \n",
       "3           ['Piano']                 []  \n",
       "4           ['Piano']  ['relaxing-calm']  "
      ]
     },
     "execution_count": 60,
     "metadata": {},
     "output_type": "execute_result"
    }
   ],
   "source": [
    "#aggregate by movie\n",
    "movie_group = df.groupby('movie').agg(lambda lists: list(set(item  for item in lists ))[0]).reset_index()\n",
    "movie_group['colors'] = df['colors'].apply(ast.literal_eval)\n",
    "movie_group.head()"
   ]
  },
  {
   "cell_type": "code",
   "execution_count": 63,
   "metadata": {},
   "outputs": [
    {
     "data": {
      "text/plain": [
       "instruments\n",
       "['Piano']             11\n",
       "[]                     3\n",
       "['Violin, fiddle']     1\n",
       "Name: count, dtype: int64"
      ]
     },
     "execution_count": 63,
     "metadata": {},
     "output_type": "execute_result"
    }
   ],
   "source": [
    "movie_group['emotions'].value_counts()\n",
    "movie_group['instruments'].value_counts()"
   ]
  },
  {
   "cell_type": "code",
   "execution_count": null,
   "metadata": {},
   "outputs": [
    {
     "data": {
      "image/png": "[encoded data removed]",
      "text/plain": [
       "<Figure size 800x3000 with 1 Axes>"
      ]
     },
     "metadata": {},
     "output_type": "display_data"
    }
   ],
   "source": [
    "import matplotlib.pyplot as plt\n",
    "\n",
    "def normalize(colors):\n",
    "    return [[r/255, g/255, b/255] for [r, g, b] in colors]\n",
    "\n",
    "# Plot\n",
    "fig, ax = plt.subplots(figsize=(8, 2 * len(movie_group)))\n",
    "# df['colors'] = df['colors'].apply(ast.literal_eval)\n",
    "movie_group.head()\n",
    "for idx, row in movie_group.iterrows():\n",
    "    colors = normalize(row['colors'])\n",
    "    for i, color in enumerate(colors):\n",
    "        rect = plt.Rectangle((i, idx), 1, 1, color=color)\n",
    "        ax.add_patch(rect)\n",
    "    ax.text(-0.5, idx + 0.5, row['movie'], va='center', ha='right', fontsize=12)\n",
    "\n",
    "ax.set_xlim(-2, max(len(c) for c in movie_group['colors']))\n",
    "ax.set_ylim(0, len(movie_group))\n",
    "ax.set_aspect('equal')\n",
    "ax.axis('off')\n",
    "\n",
    "plt.tight_layout()\n",
    "plt.show()"
   ]
  },
  {
   "cell_type": "code",
   "execution_count": null,
   "metadata": {},
   "outputs": [
    {
     "data": {
      "image/png": "[encoded data removed]",
      "text/plain": [
       "<Figure size 800x200 with 1 Axes>"
      ]
     },
     "metadata": {},
     "output_type": "display_data"
    }
   ],
   "source": [
    "#a list of colors for all movies with a sad emotion label\n",
    "def plot_emotion_colors(emotion):\n",
    "    emotion_colors = []\n",
    "    for idx, row in df.iterrows():\n",
    "        if emotion in row['emotions']:\n",
    "            emotion_colors.extend(row['colors'])\n",
    "    # Normalize the colors\n",
    "    emotion_colors = normalize(emotion_colors)\n",
    "    # Plot\n",
    "    fig, ax = plt.subplots(figsize=(8, 2))\n",
    "    row = -1\n",
    "    for i, color in enumerate(emotion_colors):\n",
    "        rect = plt.Rectangle((i, row), 1, 1, color=color)\n",
    "        if i%10 == 0:\n",
    "            row +=1\n",
    "        ax.add_patch(rect)\n",
    "\n",
    "    ax.set_xlim(-2, 10)\n",
    "    ax.set_ylim(0, 5)\n",
    "    ax.set_aspect('equal')\n",
    "    ax.axis('off')\n",
    "    plt.tight_layout()\n",
    "    plt.show()\n",
    "plot_emotion_colors('relaxing-calm')\n",
    "plot_emotion_colors('')"
   ]
  }
 ],
 "metadata": {
  "kernelspec": {
   "display_name": "tf-env",
   "language": "python",
   "name": "python3"
  },
  "language_info": {
   "codemirror_mode": {
    "name": "ipython",
    "version": 3
   },
   "file_extension": ".py",
   "mimetype": "text/x-python",
   "name": "python",
   "nbconvert_exporter": "python",
   "pygments_lexer": "ipython3",
   "version": "3.10.17"
  }
 },
 "nbformat": 4,
 "nbformat_minor": 2
}
